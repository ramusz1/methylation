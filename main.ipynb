{
 "nbformat": 4,
 "nbformat_minor": 2,
 "metadata": {
  "language_info": {
   "name": "python",
   "codemirror_mode": {
    "name": "ipython",
    "version": 3
   },
   "version": "3.7.3"
  },
  "orig_nbformat": 2,
  "file_extension": ".py",
  "mimetype": "text/x-python",
  "name": "python",
  "npconvert_exporter": "python",
  "pygments_lexer": "ipython3",
  "version": 3
 },
 "cells": [
  {
   "cell_type": "code",
   "execution_count": null,
   "metadata": {},
   "outputs": [],
   "source": [
    "## ZAD 1"
   ]
  },
  {
   "cell_type": "code",
   "execution_count": 1,
   "metadata": {},
   "outputs": [],
   "source": [
    "# Define utility classes:\n",
    "\n",
    "class ChrPoint:\n",
    "\n",
    "    def __init__(self, chr, pos):\n",
    "        self.chr = chr\n",
    "        self.pos = pos\n",
    "\n",
    "    def __str__(self):\n",
    "        return f'{self.chr} at {self.pos}'\n",
    "\n",
    "class ChrRange:\n",
    "\n",
    "    def __init__(self, chr, start, stop, range_type):\n",
    "        self.chr = chr\n",
    "        self.start = start\n",
    "        self.stop = stop\n",
    "        self.range_type = range_type\n",
    "\n",
    "    def len(self):\n",
    "        return self.stop - self.start + 1\n",
    "\n",
    "    def __str__(self):\n",
    "        return f'{self.chr} {self.start} {self.stop}'\n",
    "\n"
   ]
  },
  {
   "cell_type": "code",
   "execution_count": 2,
   "metadata": {},
   "outputs": [
    {
     "name": "stdout",
     "output_type": "stream",
     "text": "chr1 28735 29810\nchr1 135124 135563\nchr1 327790 328229\nchr1 437151 438164\nchr1 449273 450544\nchr1 533219 534114\nchr1 544738 546649\nchr1 713984 714547\nchr1 762416 763445\nchr1 788863 789211\n"
    }
   ],
   "source": [
    "# Read cpg islands\n",
    "def parse_cpg_island(entry):\n",
    "    split = entry.split()\n",
    "    return ChrRange(split[1], int(split[2]), int(split[3]), 'island')\n",
    "\n",
    "with open('cpgIslandExt.txt', 'r') as f:\n",
    "    cpg_islands = [parse_cpg_island(line) for line in f.readlines()]\n",
    "    cpg_islands = sorted(cpg_islands, key = lambda x: (x.chr, x.start) )\n",
    "\n",
    "for x in cpg_islands[:10]:\n",
    "    print(x)"
   ]
  },
  {
   "cell_type": "code",
   "execution_count": 3,
   "metadata": {},
   "outputs": [
    {
     "data": {
      "text/plain": "array(['chr1', 'chr10', 'chr11', 'chr12', 'chr13', 'chr14', 'chr15',\n       'chr16', 'chr17', 'chr18', 'chr19', 'chr2', 'chr20', 'chr21',\n       'chr22', 'chr3', 'chr4', 'chr5', 'chr6', 'chr7', 'chr8', 'chr9'],\n      dtype='<U5')"
     },
     "execution_count": 3,
     "metadata": {},
     "output_type": "execute_result"
    }
   ],
   "source": [
    "# Filter autosomal only\n",
    "import numpy as np\n",
    "\n",
    "def filter_autosomal(x):\n",
    "    autosomal_chromosomes = [f'chr{id}' for id in range(1, 23)]\n",
    "    return [el for el in x if el.chr in autosomal_chromosomes]\n",
    "\n",
    "cpg_islands = filter_autosomal(cpg_islands)\n",
    "\n",
    "np.unique( [island.chr for island in cpg_islands])"
   ]
  },
  {
   "cell_type": "code",
   "execution_count": 4,
   "metadata": {},
   "outputs": [
    {
     "data": {
      "text/plain": "{'chr1': 249250621,\n 'chr2': 243199373,\n 'chr3': 198022430,\n 'chr4': 191154276,\n 'chr5': 180915260,\n 'chr6': 171115067,\n 'chr7': 159138663,\n 'chrX': 155270560,\n 'chr8': 146364022,\n 'chr9': 141213431,\n 'chr10': 135534747,\n 'chr11': 135006516,\n 'chr12': 133851895,\n 'chr13': 115169878,\n 'chr14': 107349540,\n 'chr15': 102531392,\n 'chr16': 90354753,\n 'chr17': 81195210,\n 'chr18': 78077248,\n 'chr20': 63025520,\n 'chrY': 59373566,\n 'chr19': 59128983,\n 'chr22': 51304566,\n 'chr21': 48129895,\n 'chr6_ssto_hap7': 4928567,\n 'chr6_mcf_hap5': 4833398,\n 'chr6_cox_hap2': 4795371,\n 'chr6_mann_hap4': 4683263,\n 'chr6_apd_hap1': 4622290,\n 'chr6_qbl_hap6': 4611984,\n 'chr6_dbb_hap3': 4610396,\n 'chr17_ctg5_hap1': 1680828,\n 'chr4_ctg9_hap1': 590426,\n 'chr1_gl000192_random': 547496,\n 'chrUn_gl000225': 211173,\n 'chr4_gl000194_random': 191469,\n 'chr4_gl000193_random': 189789,\n 'chr9_gl000200_random': 187035,\n 'chrUn_gl000222': 186861,\n 'chrUn_gl000212': 186858,\n 'chr7_gl000195_random': 182896,\n 'chrUn_gl000223': 180455,\n 'chrUn_gl000224': 179693,\n 'chrUn_gl000219': 179198,\n 'chr17_gl000205_random': 174588,\n 'chrUn_gl000215': 172545,\n 'chrUn_gl000216': 172294,\n 'chrUn_gl000217': 172149,\n 'chr9_gl000199_random': 169874,\n 'chrUn_gl000211': 166566,\n 'chrUn_gl000213': 164239,\n 'chrUn_gl000220': 161802,\n 'chrUn_gl000218': 161147,\n 'chr19_gl000209_random': 159169,\n 'chrUn_gl000221': 155397,\n 'chrUn_gl000214': 137718,\n 'chrUn_gl000228': 129120,\n 'chrUn_gl000227': 128374,\n 'chr1_gl000191_random': 106433,\n 'chr19_gl000208_random': 92689,\n 'chr9_gl000198_random': 90085,\n 'chr17_gl000204_random': 81310,\n 'chrUn_gl000233': 45941,\n 'chrUn_gl000237': 45867,\n 'chrUn_gl000230': 43691,\n 'chrUn_gl000242': 43523,\n 'chrUn_gl000243': 43341,\n 'chrUn_gl000241': 42152,\n 'chrUn_gl000236': 41934,\n 'chrUn_gl000240': 41933,\n 'chr17_gl000206_random': 41001,\n 'chrUn_gl000232': 40652,\n 'chrUn_gl000234': 40531,\n 'chr11_gl000202_random': 40103,\n 'chrUn_gl000238': 39939,\n 'chrUn_gl000244': 39929,\n 'chrUn_gl000248': 39786,\n 'chr8_gl000196_random': 38914,\n 'chrUn_gl000249': 38502,\n 'chrUn_gl000246': 38154,\n 'chr17_gl000203_random': 37498,\n 'chr8_gl000197_random': 37175,\n 'chrUn_gl000245': 36651,\n 'chrUn_gl000247': 36422,\n 'chr9_gl000201_random': 36148,\n 'chrUn_gl000235': 34474,\n 'chrUn_gl000239': 33824,\n 'chr21_gl000210_random': 27682,\n 'chrUn_gl000231': 27386,\n 'chrUn_gl000229': 19913,\n 'chrM': 16571,\n 'chrUn_gl000226': 15008,\n 'chr18_gl000207_random': 4262}"
     },
     "execution_count": 4,
     "metadata": {},
     "output_type": "execute_result"
    }
   ],
   "source": [
    "# Read chromosome sizes\n",
    "with open('hg19.chrom.sizes', 'r') as f:\n",
    "    chrom_sizes = { name: int(size) for name, size in [line.split() for line in f.readlines()]}\n",
    "\n",
    "chrom_sizes"
   ]
  },
  {
   "cell_type": "code",
   "execution_count": 5,
   "metadata": {},
   "outputs": [
    {
     "name": "stdout",
     "output_type": "stream",
     "text": "chr1 0 24734 sea\nchr1 24735 26734 shelf\nchr1 26735 28734 shore\nchr1 28735 29810 island\nchr1 29811 31810 shore\nchr1 31811 33810 shelf\nchr1 33811 131123 sea\nchr1 131124 133123 shelf\nchr1 133124 135123 shore\nchr1 135124 135563 island\n"
    }
   ],
   "source": [
    "# Get shores and shelves\n",
    "\n",
    "\n",
    "shore_size = 2000\n",
    "shelf_size = 2000\n",
    "\n",
    "def get_range(lower_bound, upper_bound, start, stop, chr, range_type):\n",
    "    start = max(lower_bound, start)\n",
    "    stop = min(upper_bound, stop)\n",
    "    return ChrRange(chr, start, stop, range_type)\n",
    "\n",
    "# divide range from start of chromosome to start of island\n",
    "def divide_range_start_island(sea_start, island_start, chr):\n",
    "    shore = get_range(sea_start, island_start - 1, island_start - shore_size, island_start - 1, chr, 'shore')\n",
    "    shelf = get_range(sea_start, shore.start - 1, shore.start - shelf_size, shore.start - 1, chr, 'shelf')\n",
    "    sea = get_range(sea_start, shelf.start - 1, sea_start, shelf.start - 1, chr, 'sea')\n",
    "    return [sea, shelf, shore]\n",
    "\n",
    "# divide range from end of island to end of chromosome\n",
    "def divide_range_island_end(island_stop, sea_stop, chr):\n",
    "    shore = get_range(island_stop + 1, sea_stop, island_stop + 1, island_stop + shore_size, chr, 'shore')\n",
    "    shelf = get_range(shore.stop + 1, sea_stop, shore.stop + 1, shore.stop + shelf_size, chr, 'shelf')\n",
    "    sea = get_range(shelf.stop + 1, sea_stop, shelf.stop + 1, sea_stop, chr, 'sea')\n",
    "    return [shore, shelf, sea]\n",
    "    \n",
    "def divide_range_island_island(island_stop, island_start, chr):\n",
    "    shore1 = get_range(island_stop + 1, island_start - 1, island_stop + 1, island_stop + shore_size, chr, 'shore')\n",
    "    shore2 = get_range(shore1.stop + 1, island_start - 1, island_start - shore_size, island_start - 1, chr, 'shore')\n",
    "\n",
    "    shelf1 = get_range(shore1.stop + 1, shore2.start - 1, shore1.stop + 1, shore1.stop + shelf_size, chr, 'shelf')\n",
    "    shelf2 = get_range(shelf1.stop + 1, shore2.start - 1, shore2.start - shelf_size, shore2.start - 1, chr, 'shelf')\n",
    "    \n",
    "    sea = get_range(shelf1.stop + 1, shelf2.start - 1, shelf1.stop + 1, shelf2.start - 1, chr, 'sea')\n",
    "\n",
    "    return [shore1, shelf1, sea, shelf2, shore2]\n",
    "\n",
    "ranges_of_chromosomes = []\n",
    "\n",
    "last_island = None\n",
    "\n",
    "for island in cpg_islands:\n",
    "\n",
    "    # start of chromosome\n",
    "    if last_island is None:\n",
    "        ranges = divide_range_start_island(0, island.start, island.chr)\n",
    "    elif last_island.chr != island.chr:\n",
    "        ranges = divide_range_island_end(last_island.stop, chrom_sizes[last_island.chr], last_island.chr)\n",
    "        ranges += divide_range_start_island(0, island.start, island.chr)\n",
    "    else:\n",
    "        ranges = divide_range_island_island(last_island.stop, island.start, island.chr)\n",
    "\n",
    "    ranges_of_chromosomes += ranges\n",
    "    ranges_of_chromosomes.append(island)\n",
    "\n",
    "    last_island = island\n",
    "\n",
    "# that one last sea end\n",
    "ranges = divide_range_island_end(last_island.stop, chrom_sizes[last_island.chr], last_island.chr)\n",
    "ranges_of_chromosomes += ranges\n",
    "\n",
    "for chr_range in ranges_of_chromosomes[:10]:\n",
    "    print(chr_range, chr_range.range_type)"
   ]
  },
  {
   "cell_type": "code",
   "execution_count": 6,
   "metadata": {},
   "outputs": [
    {
     "name": "stdout",
     "output_type": "stream",
     "text": "was 159868\nis 137539\nchr1 249157420 249163407 sea\nchr1 249163408 249165407 shelf\nchr1 249165408 249167407 shore\nchr1 249167408 249168010 island\nchr1 249168011 249170010 shore\nchr1 249170011 249172010 shelf\nchr1 249172011 249196251 sea\nchr1 249196252 249198251 shelf\nchr1 249198252 249200251 shore\nchr1 249200252 249200721 island\nchr1 249200722 249202721 shore\nchr1 249202722 249204721 shelf\nchr1 249204722 249250621 sea\nchr10 0 90525 sea\nchr10 90526 92525 shelf\nchr10 92526 94525 shore\nchr10 94526 95301 island\nchr10 95302 97301 shore\nchr10 97302 99301 shelf\nchr10 99302 115608 sea\nchr10 115609 117608 shelf\nchr10 117609 119608 shore\nchr10 119609 120162 island\nchr10 120163 122101 shore\nchr10 122102 122620 island\nchr10 122621 124620 shore\nchr10 124621 126620 shelf\nchr10 126621 176581 sea\nchr10 176582 178581 shelf\nchr10 178582 180581 shore\nchr10 180582 182452 island\nchr10 182453 184452 shore\nchr10 184453 186452 shelf\nchr10 186453 342503 sea\nchr10 342504 344503 shelf\nchr10 344504 346503 shore\nchr10 346504 346828 island\nchr10 346829 348828 shore\nchr10 348829 350828 shelf\nchr10 350829 363468 sea\nchr10 363469 365468 shelf\nchr10 365469 367468 shore\nchr10 367469 369416 island\nchr10 369417 371416 shore\nchr10 371417 372931 shore\nchr10 372932 373159 island\nchr10 373160 375159 shore\nchr10 375160 377159 shelf\nchr10 377160 383293 sea\nchr10 383294 385293 shelf\nchr10 385294 387293 shore\nchr10 387294 387544 island\nchr10 387545 389544 shore\nchr10 389545 391381 shore\nchr10 391382 394008 island\nchr10 394009 395169 shore\nchr10 395170 395404 island\nchr10 395405 396942 shore\nchr10 396943 397228 island\nchr10 397229 399228 shore\nchr10 399229 401228 shelf\nchr10 401229 405200 sea\nchr10 405201 407200 shelf\nchr10 407201 409200 shore\nchr10 409201 409523 island\nchr10 409524 411523 shore\nchr10 411524 411850 shelf\nchr10 411851 413850 shore\nchr10 413851 414165 island\nchr10 414166 416165 shore\nchr10 416166 418165 shelf\nchr10 418166 418179 sea\nchr10 418180 420179 shelf\nchr10 420180 422179 shore\nchr10 422180 422411 island\nchr10 422412 424411 shore\nchr10 424412 426411 shelf\nchr10 426412 440908 sea\nchr10 440909 442908 shelf\nchr10 442909 444908 shore\nchr10 444909 445131 island\nchr10 445132 447131 shore\nchr10 447132 449131 shelf\nchr10 449132 455691 sea\nchr10 455692 457691 shelf\nchr10 457692 459691 shore\nchr10 459692 460058 island\nchr10 460059 462058 shore\nchr10 462059 463927 shelf\nchr10 463928 465927 shore\nchr10 465928 466396 island\nchr10 466397 468396 shore\nchr10 468397 470396 shelf\nchr10 470397 514191 sea\nchr10 514192 516191 shelf\nchr10 516192 518191 shore\nchr10 518192 518471 island\nchr10 518472 520471 shore\nchr10 520472 522471 shelf\nchr10 522472 523718 shelf\nchr10 523719 525718 shore\nchr10 525719 526041 island\nchr10 526042 528041 shore\nchr10 528042 528712 shelf\nchr10 528713 530712 shore\nchr10 530713 531099 island\nchr10 531100 533099 shore\nchr10 533100 535099 shelf\nchr10 535100 571897 sea\nchr10 571898 573897 shelf\nchr10 573898 575897 shore\nchr10 575898 576131 island\nchr10 576132 578131 shore\nchr10 578132 580131 shelf\nchr10 580132 626308 sea\nchr10 626309 628308 shelf\nchr10 628309 630308 shore\nchr10 630309 630950 island\nchr10 630951 632950 shore\nchr10 632951 634950 shelf\nchr10 634951 648258 sea\nchr10 648259 650258 shelf\nchr10 650259 652258 shore\nchr10 652259 652528 island\nchr10 652529 654528 shore\nchr10 654529 656528 shelf\nchr10 656529 665069 sea\nchr10 665070 667069 shelf\nchr10 667070 669069 shore\nchr10 669070 669336 island\nchr10 669337 671336 shore\nchr10 671337 673336 shelf\nchr10 673337 674261 sea\nchr10 674262 676261 shelf\nchr10 676262 678261 shore\nchr10 678262 679515 island\nchr10 679516 681515 shore\nchr10 681516 683032 shelf\nchr10 683033 685032 shore\nchr10 685033 685407 island\nchr10 685408 685843 shore\nchr10 685844 686202 island\nchr10 686203 688202 shore\nchr10 688203 690202 shelf\nchr10 690203 707895 sea\nchr10 707896 709895 shelf\nchr10 709896 711895 shore\nchr10 711896 712395 island\nchr10 712396 714395 shore\nchr10 714396 716395 shelf\nchr10 716396 730706 sea\nchr10 730707 732706 shelf\nchr10 732707 734706 shore\nchr10 734707 735606 island\nchr10 735607 737606 shore\nchr10 737607 739606 shelf\nchr10 739607 741239 shelf\nchr10 741240 743239 shore\nchr10 743240 743479 island\nchr10 743480 745479 shore\nchr10 745480 747479 shelf\nchr10 747480 768292 sea\nchr10 768293 770292 shelf\nchr10 770293 772292 shore\nchr10 772293 772508 island\nchr10 772509 774508 shore\nchr10 774509 776508 shelf\nchr10 776509 835607 sea\nchr10 835608 837607 shelf\nchr10 837608 839607 shore\nchr10 839608 840210 island\nchr10 840211 842210 shore\nchr10 842211 844210 shelf\nchr10 844211 847099 sea\nchr10 847100 849099 shelf\nchr10 849100 851099 shore\nchr10 851100 851525 island\nchr10 851526 853525 shore\nchr10 853526 853625 shelf\nchr10 853626 855625 shore\nchr10 855626 855885 island\nchr10 855886 857885 shore\nchr10 857886 859885 shelf\nchr10 859886 973259 sea\nchr10 973260 975259 shelf\nchr10 975260 977259 shore\nchr10 977260 978072 island\nchr10 978073 980072 shore\nchr10 980073 982072 shelf\nchr10 982073 1017640 sea\nchr10 1017641 1019640 shelf\nchr10 1019641 1021640 shore\nchr10 1021641 1022509 island\nchr10 1022510 1024509 shore\nchr10 1024510 1026509 shelf\nchr10 1026510 1029789 sea\nchr10 1029790 1031789 shelf\nchr10 1031790 1033789 shore\nchr10 1033790 1034615 island\nchr10 1034616 1036615 shore\nchr10 1036616 1038615 shelf\nchr10 1038616 1090336 sea\nchr10 1090337 1092336 shelf\nchr10 1092337 1094336 shore\nchr10 1094337 1095594 island\nchr10 1095595 1097594 shore\nchr10 1097595 1099594 shelf\nchr10 1099595 1100143 shelf\nchr10 1100144 1102143 shore\nchr10 1102144 1103341 island\nchr10 1103342 1105341 shore\nchr10 1105342 1107341 shelf\nchr10 1107342 1143966 sea\nchr10 1143967 1145966 shelf\nchr10 1145967 1147966 shore\nchr10 1147967 1148271 island\nchr10 1148272 1150271 shore\nchr10 1150272 1152271 shelf\nchr10 1152272 1201561 sea\nchr10 1201562 1203561 shelf\nchr10 1203562 1205561 shore\nchr10 1205562 1205859 island\nchr10 1205860 1207859 shore\nchr10 1207860 1209313 shore\nchr10 1209314 1209521 island\nchr10 1209522 1211521 shore\nchr10 1211522 1213521 shelf\nchr10 1213522 1215145 sea\nchr10 1215146 1217145 shelf\nchr10 1217146 1219145 shore\nchr10 1219146 1219427 island\nchr10 1219428 1221427 shore\nchr10 1221428 1223427 shelf\nchr10 1223428 1226812 sea\nchr10 1226813 1228812 shelf\nchr10 1228813 1230812 shore\nchr10 1230813 1231214 island\nchr10 1231215 1233214 shore\nchr10 1233215 1235214 shelf\nchr10 1235215 1248140 sea\nchr10 1248141 1250140 shelf\n"
    }
   ],
   "source": [
    "# filter ranges of length 0\n",
    "def filter_empty_ranges(ranges):\n",
    "    return [x for x in ranges if x.len() > 0]\n",
    "\n",
    "print('was', len(ranges_of_chromosomes))\n",
    "\n",
    "ranges_of_chromosomes = filter_empty_ranges(ranges_of_chromosomes)\n",
    "\n",
    "print('is', len(ranges_of_chromosomes))\n",
    "\n",
    "for chr_range in ranges_of_chromosomes[13060: 13301]:\n",
    "    print(chr_range, chr_range.range_type)"
   ]
  },
  {
   "cell_type": "code",
   "execution_count": 7,
   "metadata": {},
   "outputs": [],
   "source": [
    "# save cpg, shores, seas and shelves\n",
    "\n",
    "def save_ranges_of_type(ranges, range_type, filename):\n",
    "    with open(filename, '+w') as f:\n",
    "        for x in [r for r in ranges if r.range_type == range_type]:\n",
    "            f.write(f'{x}\\n')\n",
    "    \n",
    "save_ranges_of_type(ranges_of_chromosomes, 'island', 'my_cpg.bed')\n",
    "save_ranges_of_type(ranges_of_chromosomes, 'shore', 'my_shores.bed')\n",
    "save_ranges_of_type(ranges_of_chromosomes, 'shelf', 'my_shelves.bed')\n",
    "save_ranges_of_type(ranges_of_chromosomes, 'sea', 'my_seas.bed')\n"
   ]
  },
  {
   "cell_type": "markdown",
   "execution_count": null,
   "metadata": {},
   "outputs": [],
   "source": [
    "## ZAD 2"
   ]
  },
  {
   "cell_type": "code",
   "execution_count": 8,
   "metadata": {},
   "outputs": [
    {
     "name": "stdout",
     "output_type": "stream",
     "text": "chr16 at 53468137\nchr3 at 37459231\nchr3 at 171916062\nchr1 at 91194699\nchr8 at 42263319\nchr14 at 69341164\nchr16 at 28890125\nchr8 at 41167827\nchr1 at 230560818\nchr15 at 23034472\n"
    }
   ],
   "source": [
    "# read methylation\n",
    "\n",
    "import pybedtools\n",
    "\n",
    "def parse_point(entry):\n",
    "    return ChrPoint(entry[0], (int(entry[1]) + int(entry[2])) // 2)\n",
    "\n",
    "methylation = pybedtools.BedTool('wgEncodeHaibMethyl450A549Etoh02SitesRep1.bed.gz')\n",
    "methylation_coords = [ parse_point(entry) for entry in methylation]\n",
    "methylation_coords = filter_autosomal(methylation_coords)\n",
    "\n",
    "for point in methylation_coords[:10]:\n",
    "    print(point)"
   ]
  },
  {
   "cell_type": "markdown",
   "execution_count": null,
   "metadata": {},
   "outputs": [],
   "source": [
    "## ZAD 3 "
   ]
  },
  {
   "cell_type": "code",
   "execution_count": 9,
   "metadata": {},
   "outputs": [
    {
     "name": "stdout",
     "output_type": "stream",
     "text": "chr1 at 15890\nchr1 at 18852\nchr1 at 29432\nchr1 at 29450\nchr1 at 29460\nchr1 at 68874\nchr1 at 69616\nchr1 at 91575\nchr1 at 135277\nchr1 at 449101\n"
    }
   ],
   "source": [
    "# sort methylations\n",
    "\n",
    "methylation_coords = sorted(methylation_coords, key = lambda methylation: (methylation.chr, methylation.pos))\n",
    "\n",
    "for m in methylation_coords[:10]:\n",
    "    print(m)\n"
   ]
  },
  {
   "cell_type": "code",
   "execution_count": 10,
   "metadata": {},
   "outputs": [
    {
     "name": "stdout",
     "output_type": "stream",
     "text": "470870\n470870\n{'island': 132325, 'shore': 122697, 'shelf': 45452, 'sea': 170396}\n{'island': 0.2810223628602374, 'shore': 0.2605751056554888, 'shelf': 0.09652770403720771, 'sea': 0.36187482744706606}\n"
    }
   ],
   "source": [
    "# calcuate stats about methylation position\n",
    "\n",
    "def is_pt_ahead(r, pt):\n",
    "    return pt.chr > r.chr or ( r.chr == pt.chr  and pt.pos > r.start )\n",
    "\n",
    "def is_in_range(r, pt):\n",
    "     return r.chr == pt.chr and r.start <= pt.pos and pt.pos <= r.stop\n",
    "\n",
    "def calculate_hits(methylation_coords, ranges):\n",
    "    range_id = 0\n",
    "    methylation_id = 0\n",
    "    hits = {'island' : 0, 'shore': 0 , 'shelf' : 0, 'sea': 0}\n",
    "    while range_id < len(ranges) and methylation_id < len(methylation_coords):\n",
    "        \n",
    "        if is_in_range( ranges[range_id], methylation_coords[methylation_id]):\n",
    "            hits[ ranges[range_id].range_type ] += 1\n",
    "            methylation_id += 1\n",
    "        elif is_pt_ahead( ranges[range_id], methylation_coords[methylation_id]):\n",
    "            range_id += 1\n",
    "        else:\n",
    "            print('erorororo')\n",
    "            return -1\n",
    "    \n",
    "    return hits\n",
    "\n",
    "\n",
    "all_hits = len(methylation_coords)\n",
    "\n",
    "hits_stats = calculate_hits(methylation_coords, ranges_of_chromosomes)\n",
    "\n",
    "print(all_hits)\n",
    "print( sum( [ count for count in hits_stats.values()]))\n",
    "print(hits_stats)\n",
    "hits_stats_percents = { area: count / all_hits for area, count in hits_stats.items()}\n",
    "print(hits_stats_percents)\n"
   ]
  },
  {
   "cell_type": "code",
   "execution_count": 11,
   "metadata": {},
   "outputs": [
    {
     "data": {
      "image/png": "[encoded data removed]",
      "image/svg+xml": "<?xml version=\"1.0\" encoding=\"utf-8\" standalone=\"no\"?>\n<!DOCTYPE svg PUBLIC \"-//W3C//DTD SVG 1.1//EN\"\n  \"http://www.w3.org/Graphics/SVG/1.1/DTD/svg11.dtd\">\n<!-- Created with matplotlib (https://matplotlib.org/) -->\n<svg height=\"248.518125pt\" version=\"1.1\" viewBox=\"0 0 378.465625 248.518125\" width=\"378.465625pt\" xmlns=\"http://www.w3.org/2000/svg\" xmlns:xlink=\"http://www.w3.org/1999/xlink\">\n <defs>\n  <style type=\"text/css\">\n*{stroke-linecap:butt;stroke-linejoin:round;}\n  </style>\n </defs>\n <g id=\"figure_1\">\n  <g id=\"patch_1\">\n   <path d=\"M 0 248.518125 \nL 378.465625 248.518125 \nL 378.465625 0 \nL 0 0 \nz\n\" style=\"fill:none;\"/>\n  </g>\n  <g id=\"axes_1\">\n   <g id=\"patch_2\">\n    <path d=\"M 36.465625 224.64 \nL 371.265625 224.64 \nL 371.265625 7.2 \nL 36.465625 7.2 \nz\n\" style=\"fill:#ffffff;\"/>\n   </g>\n   <g id=\"patch_3\">\n    <path clip-path=\"url(#p72724eae33)\" d=\"M 51.683807 224.64 \nL 115.760362 224.64 \nL 115.760362 63.822744 \nL 51.683807 63.822744 \nz\n\" style=\"fill:#1f77b4;\"/>\n   </g>\n   <g id=\"patch_4\">\n    <path clip-path=\"url(#p72724eae33)\" d=\"M 131.779501 224.64 \nL 195.856056 224.64 \nL 195.856056 75.523848 \nL 131.779501 75.523848 \nz\n\" style=\"fill:#1f77b4;\"/>\n   </g>\n   <g id=\"patch_5\">\n    <path clip-path=\"url(#p72724eae33)\" d=\"M 211.875194 224.64 \nL 275.951749 224.64 \nL 275.951749 169.401263 \nL 211.875194 169.401263 \nz\n\" style=\"fill:#1f77b4;\"/>\n   </g>\n   <g id=\"patch_6\">\n    <path clip-path=\"url(#p72724eae33)\" d=\"M 291.970888 224.64 \nL 356.047443 224.64 \nL 356.047443 17.554286 \nL 291.970888 17.554286 \nz\n\" style=\"fill:#1f77b4;\"/>\n   </g>\n   <g id=\"matplotlib.axis_1\">\n    <g id=\"xtick_1\">\n     <g id=\"line2d_1\">\n      <defs>\n       <path d=\"M 0 0 \nL 0 3.5 \n\" id=\"md7cf21c6ca\" style=\"stroke:#000000;stroke-width:0.8;\"/>\n      </defs>\n      <g>\n       <use style=\"stroke:#000000;stroke-width:0.8;\" x=\"83.722084\" xlink:href=\"#md7cf21c6ca\" y=\"224.64\"/>\n      </g>\n     </g>\n     <g id=\"text_1\">\n      <!-- island -->\n      <defs>\n       <path d=\"M 9.421875 54.6875 \nL 18.40625 54.6875 \nL 18.40625 0 \nL 9.421875 0 \nz\nM 9.421875 75.984375 \nL 18.40625 75.984375 \nL 18.40625 64.59375 \nL 9.421875 64.59375 \nz\n\" id=\"DejaVuSans-105\"/>\n       <path d=\"M 44.28125 53.078125 \nL 44.28125 44.578125 \nQ 40.484375 46.53125 36.375 47.5 \nQ 32.28125 48.484375 27.875 48.484375 \nQ 21.1875 48.484375 17.84375 46.4375 \nQ 14.5 44.390625 14.5 40.28125 \nQ 14.5 37.15625 16.890625 35.375 \nQ 19.28125 33.59375 26.515625 31.984375 \nL 29.59375 31.296875 \nQ 39.15625 29.25 43.1875 25.515625 \nQ 47.21875 21.78125 47.21875 15.09375 \nQ 47.21875 7.46875 41.1875 3.015625 \nQ 35.15625 -1.421875 24.609375 -1.421875 \nQ 20.21875 -1.421875 15.453125 -0.5625 \nQ 10.6875 0.296875 5.421875 2 \nL 5.421875 11.28125 \nQ 10.40625 8.6875 15.234375 7.390625 \nQ 20.0625 6.109375 24.8125 6.109375 \nQ 31.15625 6.109375 34.5625 8.28125 \nQ 37.984375 10.453125 37.984375 14.40625 \nQ 37.984375 18.0625 35.515625 20.015625 \nQ 33.0625 21.96875 24.703125 23.78125 \nL 21.578125 24.515625 \nQ 13.234375 26.265625 9.515625 29.90625 \nQ 5.8125 33.546875 5.8125 39.890625 \nQ 5.8125 47.609375 11.28125 51.796875 \nQ 16.75 56 26.8125 56 \nQ 31.78125 56 36.171875 55.265625 \nQ 40.578125 54.546875 44.28125 53.078125 \nz\n\" id=\"DejaVuSans-115\"/>\n       <path d=\"M 9.421875 75.984375 \nL 18.40625 75.984375 \nL 18.40625 0 \nL 9.421875 0 \nz\n\" id=\"DejaVuSans-108\"/>\n       <path d=\"M 34.28125 27.484375 \nQ 23.390625 27.484375 19.1875 25 \nQ 14.984375 22.515625 14.984375 16.5 \nQ 14.984375 11.71875 18.140625 8.90625 \nQ 21.296875 6.109375 26.703125 6.109375 \nQ 34.1875 6.109375 38.703125 11.40625 \nQ 43.21875 16.703125 43.21875 25.484375 \nL 43.21875 27.484375 \nz\nM 52.203125 31.203125 \nL 52.203125 0 \nL 43.21875 0 \nL 43.21875 8.296875 \nQ 40.140625 3.328125 35.546875 0.953125 \nQ 30.953125 -1.421875 24.3125 -1.421875 \nQ 15.921875 -1.421875 10.953125 3.296875 \nQ 6 8.015625 6 15.921875 \nQ 6 25.140625 12.171875 29.828125 \nQ 18.359375 34.515625 30.609375 34.515625 \nL 43.21875 34.515625 \nL 43.21875 35.40625 \nQ 43.21875 41.609375 39.140625 45 \nQ 35.0625 48.390625 27.6875 48.390625 \nQ 23 48.390625 18.546875 47.265625 \nQ 14.109375 46.140625 10.015625 43.890625 \nL 10.015625 52.203125 \nQ 14.9375 54.109375 19.578125 55.046875 \nQ 24.21875 56 28.609375 56 \nQ 40.484375 56 46.34375 49.84375 \nQ 52.203125 43.703125 52.203125 31.203125 \nz\n\" id=\"DejaVuSans-97\"/>\n       <path d=\"M 54.890625 33.015625 \nL 54.890625 0 \nL 45.90625 0 \nL 45.90625 32.71875 \nQ 45.90625 40.484375 42.875 44.328125 \nQ 39.84375 48.1875 33.796875 48.1875 \nQ 26.515625 48.1875 22.3125 43.546875 \nQ 18.109375 38.921875 18.109375 30.90625 \nL 18.109375 0 \nL 9.078125 0 \nL 9.078125 54.6875 \nL 18.109375 54.6875 \nL 18.109375 46.1875 \nQ 21.34375 51.125 25.703125 53.5625 \nQ 30.078125 56 35.796875 56 \nQ 45.21875 56 50.046875 50.171875 \nQ 54.890625 44.34375 54.890625 33.015625 \nz\n\" id=\"DejaVuSans-110\"/>\n       <path d=\"M 45.40625 46.390625 \nL 45.40625 75.984375 \nL 54.390625 75.984375 \nL 54.390625 0 \nL 45.40625 0 \nL 45.40625 8.203125 \nQ 42.578125 3.328125 38.25 0.953125 \nQ 33.9375 -1.421875 27.875 -1.421875 \nQ 17.96875 -1.421875 11.734375 6.484375 \nQ 5.515625 14.40625 5.515625 27.296875 \nQ 5.515625 40.1875 11.734375 48.09375 \nQ 17.96875 56 27.875 56 \nQ 33.9375 56 38.25 53.625 \nQ 42.578125 51.265625 45.40625 46.390625 \nz\nM 14.796875 27.296875 \nQ 14.796875 17.390625 18.875 11.75 \nQ 22.953125 6.109375 30.078125 6.109375 \nQ 37.203125 6.109375 41.296875 11.75 \nQ 45.40625 17.390625 45.40625 27.296875 \nQ 45.40625 37.203125 41.296875 42.84375 \nQ 37.203125 48.484375 30.078125 48.484375 \nQ 22.953125 48.484375 18.875 42.84375 \nQ 14.796875 37.203125 14.796875 27.296875 \nz\n\" id=\"DejaVuSans-100\"/>\n      </defs>\n      <g transform=\"translate(68.932241 239.238437)scale(0.1 -0.1)\">\n       <use xlink:href=\"#DejaVuSans-105\"/>\n       <use x=\"27.783203\" xlink:href=\"#DejaVuSans-115\"/>\n       <use x=\"79.882812\" xlink:href=\"#DejaVuSans-108\"/>\n       <use x=\"107.666016\" xlink:href=\"#DejaVuSans-97\"/>\n       <use x=\"168.945312\" xlink:href=\"#DejaVuSans-110\"/>\n       <use x=\"232.324219\" xlink:href=\"#DejaVuSans-100\"/>\n      </g>\n     </g>\n    </g>\n    <g id=\"xtick_2\">\n     <g id=\"line2d_2\">\n      <g>\n       <use style=\"stroke:#000000;stroke-width:0.8;\" x=\"163.817778\" xlink:href=\"#md7cf21c6ca\" y=\"224.64\"/>\n      </g>\n     </g>\n     <g id=\"text_2\">\n      <!-- shore -->\n      <defs>\n       <path d=\"M 54.890625 33.015625 \nL 54.890625 0 \nL 45.90625 0 \nL 45.90625 32.71875 \nQ 45.90625 40.484375 42.875 44.328125 \nQ 39.84375 48.1875 33.796875 48.1875 \nQ 26.515625 48.1875 22.3125 43.546875 \nQ 18.109375 38.921875 18.109375 30.90625 \nL 18.109375 0 \nL 9.078125 0 \nL 9.078125 75.984375 \nL 18.109375 75.984375 \nL 18.109375 46.1875 \nQ 21.34375 51.125 25.703125 53.5625 \nQ 30.078125 56 35.796875 56 \nQ 45.21875 56 50.046875 50.171875 \nQ 54.890625 44.34375 54.890625 33.015625 \nz\n\" id=\"DejaVuSans-104\"/>\n       <path d=\"M 30.609375 48.390625 \nQ 23.390625 48.390625 19.1875 42.75 \nQ 14.984375 37.109375 14.984375 27.296875 \nQ 14.984375 17.484375 19.15625 11.84375 \nQ 23.34375 6.203125 30.609375 6.203125 \nQ 37.796875 6.203125 41.984375 11.859375 \nQ 46.1875 17.53125 46.1875 27.296875 \nQ 46.1875 37.015625 41.984375 42.703125 \nQ 37.796875 48.390625 30.609375 48.390625 \nz\nM 30.609375 56 \nQ 42.328125 56 49.015625 48.375 \nQ 55.71875 40.765625 55.71875 27.296875 \nQ 55.71875 13.875 49.015625 6.21875 \nQ 42.328125 -1.421875 30.609375 -1.421875 \nQ 18.84375 -1.421875 12.171875 6.21875 \nQ 5.515625 13.875 5.515625 27.296875 \nQ 5.515625 40.765625 12.171875 48.375 \nQ 18.84375 56 30.609375 56 \nz\n\" id=\"DejaVuSans-111\"/>\n       <path d=\"M 41.109375 46.296875 \nQ 39.59375 47.171875 37.8125 47.578125 \nQ 36.03125 48 33.890625 48 \nQ 26.265625 48 22.1875 43.046875 \nQ 18.109375 38.09375 18.109375 28.8125 \nL 18.109375 0 \nL 9.078125 0 \nL 9.078125 54.6875 \nL 18.109375 54.6875 \nL 18.109375 46.1875 \nQ 20.953125 51.171875 25.484375 53.578125 \nQ 30.03125 56 36.53125 56 \nQ 37.453125 56 38.578125 55.875 \nQ 39.703125 55.765625 41.0625 55.515625 \nz\n\" id=\"DejaVuSans-114\"/>\n       <path d=\"M 56.203125 29.59375 \nL 56.203125 25.203125 \nL 14.890625 25.203125 \nQ 15.484375 15.921875 20.484375 11.0625 \nQ 25.484375 6.203125 34.421875 6.203125 \nQ 39.59375 6.203125 44.453125 7.46875 \nQ 49.3125 8.734375 54.109375 11.28125 \nL 54.109375 2.78125 \nQ 49.265625 0.734375 44.1875 -0.34375 \nQ 39.109375 -1.421875 33.890625 -1.421875 \nQ 20.796875 -1.421875 13.15625 6.1875 \nQ 5.515625 13.8125 5.515625 26.8125 \nQ 5.515625 40.234375 12.765625 48.109375 \nQ 20.015625 56 32.328125 56 \nQ 43.359375 56 49.78125 48.890625 \nQ 56.203125 41.796875 56.203125 29.59375 \nz\nM 47.21875 32.234375 \nQ 47.125 39.59375 43.09375 43.984375 \nQ 39.0625 48.390625 32.421875 48.390625 \nQ 24.90625 48.390625 20.390625 44.140625 \nQ 15.875 39.890625 15.1875 32.171875 \nz\n\" id=\"DejaVuSans-101\"/>\n      </defs>\n      <g transform=\"translate(149.854497 239.238437)scale(0.1 -0.1)\">\n       <use xlink:href=\"#DejaVuSans-115\"/>\n       <use x=\"52.099609\" xlink:href=\"#DejaVuSans-104\"/>\n       <use x=\"115.478516\" xlink:href=\"#DejaVuSans-111\"/>\n       <use x=\"176.660156\" xlink:href=\"#DejaVuSans-114\"/>\n       <use x=\"217.742188\" xlink:href=\"#DejaVuSans-101\"/>\n      </g>\n     </g>\n    </g>\n    <g id=\"xtick_3\">\n     <g id=\"line2d_3\">\n      <g>\n       <use style=\"stroke:#000000;stroke-width:0.8;\" x=\"243.913472\" xlink:href=\"#md7cf21c6ca\" y=\"224.64\"/>\n      </g>\n     </g>\n     <g id=\"text_3\">\n      <!-- shelf -->\n      <defs>\n       <path d=\"M 37.109375 75.984375 \nL 37.109375 68.5 \nL 28.515625 68.5 \nQ 23.6875 68.5 21.796875 66.546875 \nQ 19.921875 64.59375 19.921875 59.515625 \nL 19.921875 54.6875 \nL 34.71875 54.6875 \nL 34.71875 47.703125 \nL 19.921875 47.703125 \nL 19.921875 0 \nL 10.890625 0 \nL 10.890625 47.703125 \nL 2.296875 47.703125 \nL 2.296875 54.6875 \nL 10.890625 54.6875 \nL 10.890625 58.5 \nQ 10.890625 67.625 15.140625 71.796875 \nQ 19.390625 75.984375 28.609375 75.984375 \nz\n\" id=\"DejaVuSans-102\"/>\n      </defs>\n      <g transform=\"translate(231.914253 239.238437)scale(0.1 -0.1)\">\n       <use xlink:href=\"#DejaVuSans-115\"/>\n       <use x=\"52.099609\" xlink:href=\"#DejaVuSans-104\"/>\n       <use x=\"115.478516\" xlink:href=\"#DejaVuSans-101\"/>\n       <use x=\"177.001953\" xlink:href=\"#DejaVuSans-108\"/>\n       <use x=\"204.785156\" xlink:href=\"#DejaVuSans-102\"/>\n      </g>\n     </g>\n    </g>\n    <g id=\"xtick_4\">\n     <g id=\"line2d_4\">\n      <g>\n       <use style=\"stroke:#000000;stroke-width:0.8;\" x=\"324.009166\" xlink:href=\"#md7cf21c6ca\" y=\"224.64\"/>\n      </g>\n     </g>\n     <g id=\"text_4\">\n      <!-- sea -->\n      <g transform=\"translate(315.263853 239.238437)scale(0.1 -0.1)\">\n       <use xlink:href=\"#DejaVuSans-115\"/>\n       <use x=\"52.099609\" xlink:href=\"#DejaVuSans-101\"/>\n       <use x=\"113.623047\" xlink:href=\"#DejaVuSans-97\"/>\n      </g>\n     </g>\n    </g>\n   </g>\n   <g id=\"matplotlib.axis_2\">\n    <g id=\"ytick_1\">\n     <g id=\"line2d_5\">\n      <defs>\n       <path d=\"M 0 0 \nL -3.5 0 \n\" id=\"mda77b41dc7\" style=\"stroke:#000000;stroke-width:0.8;\"/>\n      </defs>\n      <g>\n       <use style=\"stroke:#000000;stroke-width:0.8;\" x=\"36.465625\" xlink:href=\"#mda77b41dc7\" y=\"224.64\"/>\n      </g>\n     </g>\n     <g id=\"text_5\">\n      <!-- 0.00 -->\n      <defs>\n       <path d=\"M 31.78125 66.40625 \nQ 24.171875 66.40625 20.328125 58.90625 \nQ 16.5 51.421875 16.5 36.375 \nQ 16.5 21.390625 20.328125 13.890625 \nQ 24.171875 6.390625 31.78125 6.390625 \nQ 39.453125 6.390625 43.28125 13.890625 \nQ 47.125 21.390625 47.125 36.375 \nQ 47.125 51.421875 43.28125 58.90625 \nQ 39.453125 66.40625 31.78125 66.40625 \nz\nM 31.78125 74.21875 \nQ 44.046875 74.21875 50.515625 64.515625 \nQ 56.984375 54.828125 56.984375 36.375 \nQ 56.984375 17.96875 50.515625 8.265625 \nQ 44.046875 -1.421875 31.78125 -1.421875 \nQ 19.53125 -1.421875 13.0625 8.265625 \nQ 6.59375 17.96875 6.59375 36.375 \nQ 6.59375 54.828125 13.0625 64.515625 \nQ 19.53125 74.21875 31.78125 74.21875 \nz\n\" id=\"DejaVuSans-48\"/>\n       <path d=\"M 10.6875 12.40625 \nL 21 12.40625 \nL 21 0 \nL 10.6875 0 \nz\n\" id=\"DejaVuSans-46\"/>\n      </defs>\n      <g transform=\"translate(7.2 228.439219)scale(0.1 -0.1)\">\n       <use xlink:href=\"#DejaVuSans-48\"/>\n       <use x=\"63.623047\" xlink:href=\"#DejaVuSans-46\"/>\n       <use x=\"95.410156\" xlink:href=\"#DejaVuSans-48\"/>\n       <use x=\"159.033203\" xlink:href=\"#DejaVuSans-48\"/>\n      </g>\n     </g>\n    </g>\n    <g id=\"ytick_2\">\n     <g id=\"line2d_6\">\n      <g>\n       <use style=\"stroke:#000000;stroke-width:0.8;\" x=\"36.465625\" xlink:href=\"#mda77b41dc7\" y=\"196.027107\"/>\n      </g>\n     </g>\n     <g id=\"text_6\">\n      <!-- 0.05 -->\n      <defs>\n       <path d=\"M 10.796875 72.90625 \nL 49.515625 72.90625 \nL 49.515625 64.59375 \nL 19.828125 64.59375 \nL 19.828125 46.734375 \nQ 21.96875 47.46875 24.109375 47.828125 \nQ 26.265625 48.1875 28.421875 48.1875 \nQ 40.625 48.1875 47.75 41.5 \nQ 54.890625 34.8125 54.890625 23.390625 \nQ 54.890625 11.625 47.5625 5.09375 \nQ 40.234375 -1.421875 26.90625 -1.421875 \nQ 22.3125 -1.421875 17.546875 -0.640625 \nQ 12.796875 0.140625 7.71875 1.703125 \nL 7.71875 11.625 \nQ 12.109375 9.234375 16.796875 8.0625 \nQ 21.484375 6.890625 26.703125 6.890625 \nQ 35.15625 6.890625 40.078125 11.328125 \nQ 45.015625 15.765625 45.015625 23.390625 \nQ 45.015625 31 40.078125 35.4375 \nQ 35.15625 39.890625 26.703125 39.890625 \nQ 22.75 39.890625 18.8125 39.015625 \nQ 14.890625 38.140625 10.796875 36.28125 \nz\n\" id=\"DejaVuSans-53\"/>\n      </defs>\n      <g transform=\"translate(7.2 199.826326)scale(0.1 -0.1)\">\n       <use xlink:href=\"#DejaVuSans-48\"/>\n       <use x=\"63.623047\" xlink:href=\"#DejaVuSans-46\"/>\n       <use x=\"95.410156\" xlink:href=\"#DejaVuSans-48\"/>\n       <use x=\"159.033203\" xlink:href=\"#DejaVuSans-53\"/>\n      </g>\n     </g>\n    </g>\n    <g id=\"ytick_3\">\n     <g id=\"line2d_7\">\n      <g>\n       <use style=\"stroke:#000000;stroke-width:0.8;\" x=\"36.465625\" xlink:href=\"#mda77b41dc7\" y=\"167.414214\"/>\n      </g>\n     </g>\n     <g id=\"text_7\">\n      <!-- 0.10 -->\n      <defs>\n       <path d=\"M 12.40625 8.296875 \nL 28.515625 8.296875 \nL 28.515625 63.921875 \nL 10.984375 60.40625 \nL 10.984375 69.390625 \nL 28.421875 72.90625 \nL 38.28125 72.90625 \nL 38.28125 8.296875 \nL 54.390625 8.296875 \nL 54.390625 0 \nL 12.40625 0 \nz\n\" id=\"DejaVuSans-49\"/>\n      </defs>\n      <g transform=\"translate(7.2 171.213433)scale(0.1 -0.1)\">\n       <use xlink:href=\"#DejaVuSans-48\"/>\n       <use x=\"63.623047\" xlink:href=\"#DejaVuSans-46\"/>\n       <use x=\"95.410156\" xlink:href=\"#DejaVuSans-49\"/>\n       <use x=\"159.033203\" xlink:href=\"#DejaVuSans-48\"/>\n      </g>\n     </g>\n    </g>\n    <g id=\"ytick_4\">\n     <g id=\"line2d_8\">\n      <g>\n       <use style=\"stroke:#000000;stroke-width:0.8;\" x=\"36.465625\" xlink:href=\"#mda77b41dc7\" y=\"138.801321\"/>\n      </g>\n     </g>\n     <g id=\"text_8\">\n      <!-- 0.15 -->\n      <g transform=\"translate(7.2 142.60054)scale(0.1 -0.1)\">\n       <use xlink:href=\"#DejaVuSans-48\"/>\n       <use x=\"63.623047\" xlink:href=\"#DejaVuSans-46\"/>\n       <use x=\"95.410156\" xlink:href=\"#DejaVuSans-49\"/>\n       <use x=\"159.033203\" xlink:href=\"#DejaVuSans-53\"/>\n      </g>\n     </g>\n    </g>\n    <g id=\"ytick_5\">\n     <g id=\"line2d_9\">\n      <g>\n       <use style=\"stroke:#000000;stroke-width:0.8;\" x=\"36.465625\" xlink:href=\"#mda77b41dc7\" y=\"110.188428\"/>\n      </g>\n     </g>\n     <g id=\"text_9\">\n      <!-- 0.20 -->\n      <defs>\n       <path d=\"M 19.1875 8.296875 \nL 53.609375 8.296875 \nL 53.609375 0 \nL 7.328125 0 \nL 7.328125 8.296875 \nQ 12.9375 14.109375 22.625 23.890625 \nQ 32.328125 33.6875 34.8125 36.53125 \nQ 39.546875 41.84375 41.421875 45.53125 \nQ 43.3125 49.21875 43.3125 52.78125 \nQ 43.3125 58.59375 39.234375 62.25 \nQ 35.15625 65.921875 28.609375 65.921875 \nQ 23.96875 65.921875 18.8125 64.3125 \nQ 13.671875 62.703125 7.8125 59.421875 \nL 7.8125 69.390625 \nQ 13.765625 71.78125 18.9375 73 \nQ 24.125 74.21875 28.421875 74.21875 \nQ 39.75 74.21875 46.484375 68.546875 \nQ 53.21875 62.890625 53.21875 53.421875 \nQ 53.21875 48.921875 51.53125 44.890625 \nQ 49.859375 40.875 45.40625 35.40625 \nQ 44.1875 33.984375 37.640625 27.21875 \nQ 31.109375 20.453125 19.1875 8.296875 \nz\n\" id=\"DejaVuSans-50\"/>\n      </defs>\n      <g transform=\"translate(7.2 113.987647)scale(0.1 -0.1)\">\n       <use xlink:href=\"#DejaVuSans-48\"/>\n       <use x=\"63.623047\" xlink:href=\"#DejaVuSans-46\"/>\n       <use x=\"95.410156\" xlink:href=\"#DejaVuSans-50\"/>\n       <use x=\"159.033203\" xlink:href=\"#DejaVuSans-48\"/>\n      </g>\n     </g>\n    </g>\n    <g id=\"ytick_6\">\n     <g id=\"line2d_10\">\n      <g>\n       <use style=\"stroke:#000000;stroke-width:0.8;\" x=\"36.465625\" xlink:href=\"#mda77b41dc7\" y=\"81.575535\"/>\n      </g>\n     </g>\n     <g id=\"text_10\">\n      <!-- 0.25 -->\n      <g transform=\"translate(7.2 85.374754)scale(0.1 -0.1)\">\n       <use xlink:href=\"#DejaVuSans-48\"/>\n       <use x=\"63.623047\" xlink:href=\"#DejaVuSans-46\"/>\n       <use x=\"95.410156\" xlink:href=\"#DejaVuSans-50\"/>\n       <use x=\"159.033203\" xlink:href=\"#DejaVuSans-53\"/>\n      </g>\n     </g>\n    </g>\n    <g id=\"ytick_7\">\n     <g id=\"line2d_11\">\n      <g>\n       <use style=\"stroke:#000000;stroke-width:0.8;\" x=\"36.465625\" xlink:href=\"#mda77b41dc7\" y=\"52.962642\"/>\n      </g>\n     </g>\n     <g id=\"text_11\">\n      <!-- 0.30 -->\n      <defs>\n       <path d=\"M 40.578125 39.3125 \nQ 47.65625 37.796875 51.625 33 \nQ 55.609375 28.21875 55.609375 21.1875 \nQ 55.609375 10.40625 48.1875 4.484375 \nQ 40.765625 -1.421875 27.09375 -1.421875 \nQ 22.515625 -1.421875 17.65625 -0.515625 \nQ 12.796875 0.390625 7.625 2.203125 \nL 7.625 11.71875 \nQ 11.71875 9.328125 16.59375 8.109375 \nQ 21.484375 6.890625 26.8125 6.890625 \nQ 36.078125 6.890625 40.9375 10.546875 \nQ 45.796875 14.203125 45.796875 21.1875 \nQ 45.796875 27.640625 41.28125 31.265625 \nQ 36.765625 34.90625 28.71875 34.90625 \nL 20.21875 34.90625 \nL 20.21875 43.015625 \nL 29.109375 43.015625 \nQ 36.375 43.015625 40.234375 45.921875 \nQ 44.09375 48.828125 44.09375 54.296875 \nQ 44.09375 59.90625 40.109375 62.90625 \nQ 36.140625 65.921875 28.71875 65.921875 \nQ 24.65625 65.921875 20.015625 65.03125 \nQ 15.375 64.15625 9.8125 62.3125 \nL 9.8125 71.09375 \nQ 15.4375 72.65625 20.34375 73.4375 \nQ 25.25 74.21875 29.59375 74.21875 \nQ 40.828125 74.21875 47.359375 69.109375 \nQ 53.90625 64.015625 53.90625 55.328125 \nQ 53.90625 49.265625 50.4375 45.09375 \nQ 46.96875 40.921875 40.578125 39.3125 \nz\n\" id=\"DejaVuSans-51\"/>\n      </defs>\n      <g transform=\"translate(7.2 56.761861)scale(0.1 -0.1)\">\n       <use xlink:href=\"#DejaVuSans-48\"/>\n       <use x=\"63.623047\" xlink:href=\"#DejaVuSans-46\"/>\n       <use x=\"95.410156\" xlink:href=\"#DejaVuSans-51\"/>\n       <use x=\"159.033203\" xlink:href=\"#DejaVuSans-48\"/>\n      </g>\n     </g>\n    </g>\n    <g id=\"ytick_8\">\n     <g id=\"line2d_12\">\n      <g>\n       <use style=\"stroke:#000000;stroke-width:0.8;\" x=\"36.465625\" xlink:href=\"#mda77b41dc7\" y=\"24.349749\"/>\n      </g>\n     </g>\n     <g id=\"text_12\">\n      <!-- 0.35 -->\n      <g transform=\"translate(7.2 28.148968)scale(0.1 -0.1)\">\n       <use xlink:href=\"#DejaVuSans-48\"/>\n       <use x=\"63.623047\" xlink:href=\"#DejaVuSans-46\"/>\n       <use x=\"95.410156\" xlink:href=\"#DejaVuSans-51\"/>\n       <use x=\"159.033203\" xlink:href=\"#DejaVuSans-53\"/>\n      </g>\n     </g>\n    </g>\n   </g>\n   <g id=\"patch_7\">\n    <path d=\"M 36.465625 224.64 \nL 36.465625 7.2 \n\" style=\"fill:none;stroke:#000000;stroke-linecap:square;stroke-linejoin:miter;stroke-width:0.8;\"/>\n   </g>\n   <g id=\"patch_8\">\n    <path d=\"M 371.265625 224.64 \nL 371.265625 7.2 \n\" style=\"fill:none;stroke:#000000;stroke-linecap:square;stroke-linejoin:miter;stroke-width:0.8;\"/>\n   </g>\n   <g id=\"patch_9\">\n    <path d=\"M 36.465625 224.64 \nL 371.265625 224.64 \n\" style=\"fill:none;stroke:#000000;stroke-linecap:square;stroke-linejoin:miter;stroke-width:0.8;\"/>\n   </g>\n   <g id=\"patch_10\">\n    <path d=\"M 36.465625 7.2 \nL 371.265625 7.2 \n\" style=\"fill:none;stroke:#000000;stroke-linecap:square;stroke-linejoin:miter;stroke-width:0.8;\"/>\n   </g>\n  </g>\n </g>\n <defs>\n  <clipPath id=\"p72724eae33\">\n   <rect height=\"217.44\" width=\"334.8\" x=\"36.465625\" y=\"7.2\"/>\n  </clipPath>\n </defs>\n</svg>\n",
      "text/plain": "<Figure size 432x288 with 1 Axes>"
     },
     "metadata": {
      "needs_background": "light"
     },
     "output_type": "display_data"
    }
   ],
   "source": [
    "# plot results\n",
    "\n",
    "import matplotlib.pyplot as plt\n",
    "\n",
    "plt.bar(range(len(hits_stats_percents)), list(hits_stats_percents.values()), align='center')\n",
    "plt.xticks(range(len(hits_stats_percents)), list(hits_stats_percents.keys()))\n",
    "\n",
    "plt.show()"
   ]
  }
 ]
}